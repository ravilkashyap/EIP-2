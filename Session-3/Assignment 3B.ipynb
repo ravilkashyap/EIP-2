{
 "cells": [
  {
   "cell_type": "code",
   "execution_count": 19,
   "metadata": {},
   "outputs": [],
   "source": [
    "del model"
   ]
  },
  {
   "cell_type": "code",
   "execution_count": 1,
   "metadata": {
    "colab": {
     "base_uri": "https://localhost:8080/",
     "height": 34
    },
    "colab_type": "code",
    "executionInfo": {
     "elapsed": 10714,
     "status": "ok",
     "timestamp": 1519094797006,
     "user": {
      "displayName": "Rohan Shravan",
      "photoUrl": "https://lh3.googleusercontent.com/a/default-user=s128",
      "userId": "116259693572096743881"
     },
     "user_tz": -330
    },
    "id": "8edSiHPi2N5l",
    "outputId": "01e5ba65-64fe-4f5d-8ef5-03d35efdfa4d"
   },
   "outputs": [
    {
     "name": "stderr",
     "output_type": "stream",
     "text": [
      "Using TensorFlow backend.\n"
     ]
    }
   ],
   "source": [
    "# https://keras.io/\n",
    "!pip install -q keras\n",
    "import keras\n",
    "\n",
    "import keras\n",
    "from keras.datasets import cifar10\n",
    "from keras.models import Model, Sequential\n",
    "from keras.layers import Dense, Dropout, Flatten, Input, AveragePooling2D, merge, Activation\n",
    "from keras.layers import Conv2D, MaxPooling2D, BatchNormalization\n",
    "from keras.layers import Concatenate\n",
    "from keras.optimizers import Adam\n",
    "from keras.layers.advanced_activations import LeakyReLU\n",
    "from keras.layers import Reshape, Activation, Conv2D, Input, MaxPooling2D, BatchNormalization, Flatten, Dense, Lambda\n",
    "from keras.layers.merge import concatenate\n",
    "\n",
    "# this part will prevent tensorflow to allocate all the avaliable GPU Memory\n",
    "# backend\n",
    "import tensorflow as tf\n",
    "from keras import backend as k\n",
    "\n",
    "# Don't pre-allocate memory; allocate as-needed\n",
    "config = tf.ConfigProto()\n",
    "config.gpu_options.allow_growth = True\n",
    "\n",
    "# Create a session with the above options specified.\n",
    "k.tensorflow_backend.set_session(tf.Session(config=config))\n",
    "\n",
    "# Hyperparameters\n",
    "batch_size = 1024\n",
    "num_classes = 10\n",
    "epochs = 30\n",
    "l = 10\n",
    "num_filter = 20"
   ]
  },
  {
   "cell_type": "code",
   "execution_count": 2,
   "metadata": {
    "colab": {
     "base_uri": "https://localhost:8080/",
     "height": 51
    },
    "colab_type": "code",
    "executionInfo": {
     "elapsed": 24854,
     "status": "ok",
     "timestamp": 1519094821894,
     "user": {
      "displayName": "Rohan Shravan",
      "photoUrl": "https://lh3.googleusercontent.com/a/default-user=s128",
      "userId": "116259693572096743881"
     },
     "user_tz": -330
    },
    "id": "-hkvQwOH2cCO",
    "outputId": "402a5896-213e-47bf-e2f6-25b0d6fc70f4"
   },
   "outputs": [],
   "source": [
    "# Load CIFAR10 Data\n",
    "(x_train, y_train), (x_test, y_test) = cifar10.load_data()\n",
    "img_height, img_width, channel = x_train.shape[1],x_train.shape[2],x_train.shape[3]\n",
    "\n",
    "# convert to one hot encoing \n",
    "y_train = keras.utils.to_categorical(y_train, num_classes)\n",
    "y_test = keras.utils.to_categorical(y_test, num_classes)"
   ]
  },
  {
   "cell_type": "code",
   "execution_count": 3,
   "metadata": {
    "colab": {},
    "colab_type": "code",
    "id": "ztoDypc63gEs"
   },
   "outputs": [],
   "source": [
    "def space_to_depth_x2(x):\n",
    "    return tf.space_to_depth(x, block_size=2)"
   ]
  },
  {
   "cell_type": "code",
   "execution_count": 4,
   "metadata": {
    "colab": {},
    "colab_type": "code",
    "id": "SNnGm8Tv2fR1"
   },
   "outputs": [],
   "source": [
    "input = Input(shape=(img_height, img_width, channel,))\n",
    "\n",
    "# Layer 1\n",
    "layer_1 = Conv2D(32, (3,3), strides=(1,1), padding='same', name='conv_1', use_bias=False)(input)\n",
    "layer_1 = BatchNormalization(name='norm_1')(layer_1)\n",
    "layer_1 = LeakyReLU(alpha=0.1)(layer_1)\n",
    "layer_1 = MaxPooling2D(pool_size=(2, 2))(layer_1)\n",
    "\n",
    "# Layer 2\n",
    "layer_2 = Conv2D(64, (3,3), strides=(1,1), padding='same', name='conv_2', use_bias=False)(layer_1)\n",
    "layer_2 = BatchNormalization(name='norm_2')(layer_2)\n",
    "layer_2 = LeakyReLU(alpha=0.1)(layer_2)\n",
    "layer_2 = MaxPooling2D(pool_size=(2, 2))(layer_2)\n",
    "\n",
    "# Layer 3\n",
    "layer_3 = Conv2D(128, (3,3), strides=(1,1), padding='same', name='conv_3', use_bias=False)(layer_2)\n",
    "layer_3 = BatchNormalization(name='norm_3')(layer_3)\n",
    "layer_3 = LeakyReLU(alpha=0.1)(layer_3)\n",
    "\n",
    "# Layer 4\n",
    "layer_4 = Conv2D(64, (1,1), strides=(1,1), padding='same', name='conv_4', use_bias=False)(layer_3)\n",
    "layer_4 = BatchNormalization(name='norm_4')(layer_4)\n",
    "layer_4 = LeakyReLU(alpha=0.1)(layer_4)\n",
    "\n",
    "# Layer 5\n",
    "layer_5 = Conv2D(128, (3,3), strides=(1,1), padding='same', name='conv_5', use_bias=False)(layer_4)\n",
    "layer_5 = BatchNormalization(name='norm_5')(layer_5)\n",
    "layer_5 = LeakyReLU(alpha=0.1)(layer_5)\n",
    "layer_5 = MaxPooling2D(pool_size=(2, 2))(layer_5)\n",
    "\n",
    "# Layer 6\n",
    "layer_6 = Conv2D(256, (3,3), strides=(1,1), padding='same', name='conv_6', use_bias=False)(layer_5)\n",
    "layer_6 = BatchNormalization(name='norm_6')(layer_6)\n",
    "layer_6 = LeakyReLU(alpha=0.1)(layer_6)\n",
    "\n",
    "# Layer 7\n",
    "layer_7 = Conv2D(128, (1,1), strides=(1,1), padding='same', name='conv_7', use_bias=False)(layer_6)\n",
    "layer_7 = BatchNormalization(name='norm_7')(layer_7)\n",
    "layer_7 = LeakyReLU(alpha=0.1)(layer_7)\n",
    "\n",
    "# Layer 8\n",
    "layer_8 = Conv2D(256, (3,3), strides=(1,1), padding='same', name='conv_8', use_bias=False)(layer_7)\n",
    "layer_8 = BatchNormalization(name='norm_8')(layer_8)\n",
    "layer_8 = LeakyReLU(alpha=0.1)(layer_8)\n",
    "layer_8 = MaxPooling2D(pool_size=(2, 2))(layer_8)\n",
    "\n",
    "# Layer 9\n",
    "layer_9 = Conv2D(512, (3,3), strides=(1,1), padding='same', name='conv_9', use_bias=False)(layer_8)\n",
    "layer_9 = BatchNormalization(name='norm_9')(layer_9)\n",
    "layer_9 = LeakyReLU(alpha=0.1)(layer_9)\n",
    "\n",
    "# Layer 10\n",
    "layer_10 = Conv2D(256, (1,1), strides=(1,1), padding='same', name='conv_10', use_bias=False)(layer_9)\n",
    "layer_10 = BatchNormalization(name='norm_10')(layer_10)\n",
    "layer_10 = LeakyReLU(alpha=0.1)(layer_10)\n",
    "\n",
    "# Layer 11\n",
    "layer_11 = Conv2D(512, (3,3), strides=(1,1), padding='same', name='conv_11', use_bias=False)(layer_10)\n",
    "layer_11 = BatchNormalization(name='norm_11')(layer_11)\n",
    "layer_11 = LeakyReLU(alpha=0.1)(layer_11)\n",
    "\n",
    "# Layer 12\n",
    "layer_12 = Conv2D(256, (1,1), strides=(1,1), padding='same', name='conv_12', use_bias=False)(layer_11)\n",
    "layer_12 = BatchNormalization(name='norm_12')(layer_12)\n",
    "layer_12 = LeakyReLU(alpha=0.1)(layer_12)\n",
    "\n",
    "#Skip Connection\n",
    "skip_connection = layer_12\n",
    "\n",
    "# Layer 13\n",
    "layer_13 = Conv2D(512, (3,3), strides=(1,1), padding='same', name='conv_13', use_bias=False)(layer_12)\n",
    "layer_13 = BatchNormalization(name='norm_13')(layer_13)\n",
    "layer_13 = LeakyReLU(alpha=0.1)(layer_13)\n",
    "\n",
    "\n",
    "\n",
    "layer_13 = MaxPooling2D(pool_size=(2, 2))(layer_13)\n",
    "\n",
    "# Layer 14\n",
    "layer_14 = Conv2D(1024, (3,3), strides=(1,1), padding='same', name='conv_14', use_bias=False)(layer_13)\n",
    "layer_14 = BatchNormalization(name='norm_14')(layer_14)\n",
    "layer_14 = LeakyReLU(alpha=0.1)(layer_14)\n",
    "\n",
    "# Layer 15\n",
    "layer_15 = Conv2D(512, (1,1), strides=(1,1), padding='same', name='conv_15', use_bias=False)(layer_14)\n",
    "layer_15 = BatchNormalization(name='norm_15')(layer_15)\n",
    "layer_15 = LeakyReLU(alpha=0.1)(layer_15)\n",
    "\n",
    "# Layer 16\n",
    "layer_16 = Conv2D(1024, (3,3), strides=(1,1), padding='same', name='conv_16', use_bias=False)(layer_15)\n",
    "layer_16 = BatchNormalization(name='norm_16')(layer_16)\n",
    "layer_16 = LeakyReLU(alpha=0.1)(layer_16)\n",
    "\n",
    "# Layer 17\n",
    "layer_17 = Conv2D(512, (1,1), strides=(1,1), padding='same', name='conv_17', use_bias=False)(layer_16)\n",
    "layer_17 = BatchNormalization(name='norm_17')(layer_17)\n",
    "layer_17 = LeakyReLU(alpha=0.1)(layer_17)\n",
    "\n",
    "# Layer 18\n",
    "layer_18 = Conv2D(1024, (3,3), strides=(1,1), padding='same', name='conv_18', use_bias=False)(layer_17)\n",
    "layer_18 = BatchNormalization(name='norm_18')(layer_18)\n",
    "layer_18 = LeakyReLU(alpha=0.1)(layer_18)\n",
    "\n",
    "# Layer 19\n",
    "layer_19 = Conv2D(1024, (3,3), strides=(1,1), padding='same', name='conv_19', use_bias=False)(layer_18)\n",
    "layer_19 = BatchNormalization(name='norm_19')(layer_19)\n",
    "layer_19 = LeakyReLU(alpha=0.1)(layer_19)\n",
    "\n",
    "# Layer 20\n",
    "layer_20 = Conv2D(1024, (3,3), strides=(1,1), padding='same', name='conv_20', use_bias=False)(layer_19)\n",
    "layer_20 = BatchNormalization(name='norm_20')(layer_20)\n",
    "layer_20 = LeakyReLU(alpha=0.1)(layer_20)\n",
    "\n",
    "# Layer 21\n",
    "skip_connection = Conv2D(64, (1,1), strides=(1,1), padding='same', name='conv_21', use_bias=False)(skip_connection)\n",
    "skip_connection = BatchNormalization(name='norm_21')(skip_connection)\n",
    "skip_connection = LeakyReLU(alpha=0.1)(skip_connection)\n",
    "skip_connection = Lambda(space_to_depth_x2)(skip_connection)\n",
    "\n",
    "layer_21 = concatenate([skip_connection, layer_20])\n",
    "\n",
    "# Layer 22\n",
    "layer_22 = Conv2D(1024, (3,3), strides=(1,1), padding='same', name='conv_22', use_bias=False)(layer_21)\n",
    "layer_22 = BatchNormalization(name='norm_22')(layer_22)\n",
    "layer_22 = LeakyReLU(alpha=0.1)(layer_22)\n",
    "\n",
    "# Layer 23\n",
    "layer_23 = Flatten()(layer_22)\n",
    "\n",
    "output = Dense(num_classes, activation='softmax')(layer_23)\n",
    "\n"
   ]
  },
  {
   "cell_type": "code",
   "execution_count": 5,
   "metadata": {
    "colab": {
     "base_uri": "https://localhost:8080/",
     "height": 2737
    },
    "colab_type": "code",
    "executionInfo": {
     "elapsed": 714,
     "status": "ok",
     "timestamp": 1519094826896,
     "user": {
      "displayName": "Rohan Shravan",
      "photoUrl": "https://lh3.googleusercontent.com/a/default-user=s128",
      "userId": "116259693572096743881"
     },
     "user_tz": -330
    },
    "id": "Jeh0VAxy26NV",
    "outputId": "5f7dd604-d423-44e1-ad3a-f3b6bd0a3261"
   },
   "outputs": [
    {
     "name": "stdout",
     "output_type": "stream",
     "text": [
      "__________________________________________________________________________________________________\n",
      "Layer (type)                    Output Shape         Param #     Connected to                     \n",
      "==================================================================================================\n",
      "input_1 (InputLayer)            (None, 32, 32, 3)    0                                            \n",
      "__________________________________________________________________________________________________\n",
      "conv_1 (Conv2D)                 (None, 32, 32, 32)   864         input_1[0][0]                    \n",
      "__________________________________________________________________________________________________\n",
      "norm_1 (BatchNormalization)     (None, 32, 32, 32)   128         conv_1[0][0]                     \n",
      "__________________________________________________________________________________________________\n",
      "leaky_re_lu_1 (LeakyReLU)       (None, 32, 32, 32)   0           norm_1[0][0]                     \n",
      "__________________________________________________________________________________________________\n",
      "max_pooling2d_1 (MaxPooling2D)  (None, 16, 16, 32)   0           leaky_re_lu_1[0][0]              \n",
      "__________________________________________________________________________________________________\n",
      "conv_2 (Conv2D)                 (None, 16, 16, 64)   18432       max_pooling2d_1[0][0]            \n",
      "__________________________________________________________________________________________________\n",
      "norm_2 (BatchNormalization)     (None, 16, 16, 64)   256         conv_2[0][0]                     \n",
      "__________________________________________________________________________________________________\n",
      "leaky_re_lu_2 (LeakyReLU)       (None, 16, 16, 64)   0           norm_2[0][0]                     \n",
      "__________________________________________________________________________________________________\n",
      "max_pooling2d_2 (MaxPooling2D)  (None, 8, 8, 64)     0           leaky_re_lu_2[0][0]              \n",
      "__________________________________________________________________________________________________\n",
      "conv_3 (Conv2D)                 (None, 8, 8, 128)    73728       max_pooling2d_2[0][0]            \n",
      "__________________________________________________________________________________________________\n",
      "norm_3 (BatchNormalization)     (None, 8, 8, 128)    512         conv_3[0][0]                     \n",
      "__________________________________________________________________________________________________\n",
      "leaky_re_lu_3 (LeakyReLU)       (None, 8, 8, 128)    0           norm_3[0][0]                     \n",
      "__________________________________________________________________________________________________\n",
      "conv_4 (Conv2D)                 (None, 8, 8, 64)     8192        leaky_re_lu_3[0][0]              \n",
      "__________________________________________________________________________________________________\n",
      "norm_4 (BatchNormalization)     (None, 8, 8, 64)     256         conv_4[0][0]                     \n",
      "__________________________________________________________________________________________________\n",
      "leaky_re_lu_4 (LeakyReLU)       (None, 8, 8, 64)     0           norm_4[0][0]                     \n",
      "__________________________________________________________________________________________________\n",
      "conv_5 (Conv2D)                 (None, 8, 8, 128)    73728       leaky_re_lu_4[0][0]              \n",
      "__________________________________________________________________________________________________\n",
      "norm_5 (BatchNormalization)     (None, 8, 8, 128)    512         conv_5[0][0]                     \n",
      "__________________________________________________________________________________________________\n",
      "leaky_re_lu_5 (LeakyReLU)       (None, 8, 8, 128)    0           norm_5[0][0]                     \n",
      "__________________________________________________________________________________________________\n",
      "max_pooling2d_3 (MaxPooling2D)  (None, 4, 4, 128)    0           leaky_re_lu_5[0][0]              \n",
      "__________________________________________________________________________________________________\n",
      "conv_6 (Conv2D)                 (None, 4, 4, 256)    294912      max_pooling2d_3[0][0]            \n",
      "__________________________________________________________________________________________________\n",
      "norm_6 (BatchNormalization)     (None, 4, 4, 256)    1024        conv_6[0][0]                     \n",
      "__________________________________________________________________________________________________\n",
      "leaky_re_lu_6 (LeakyReLU)       (None, 4, 4, 256)    0           norm_6[0][0]                     \n",
      "__________________________________________________________________________________________________\n",
      "conv_7 (Conv2D)                 (None, 4, 4, 128)    32768       leaky_re_lu_6[0][0]              \n",
      "__________________________________________________________________________________________________\n",
      "norm_7 (BatchNormalization)     (None, 4, 4, 128)    512         conv_7[0][0]                     \n",
      "__________________________________________________________________________________________________\n",
      "leaky_re_lu_7 (LeakyReLU)       (None, 4, 4, 128)    0           norm_7[0][0]                     \n",
      "__________________________________________________________________________________________________\n",
      "conv_8 (Conv2D)                 (None, 4, 4, 256)    294912      leaky_re_lu_7[0][0]              \n",
      "__________________________________________________________________________________________________\n",
      "norm_8 (BatchNormalization)     (None, 4, 4, 256)    1024        conv_8[0][0]                     \n",
      "__________________________________________________________________________________________________\n",
      "leaky_re_lu_8 (LeakyReLU)       (None, 4, 4, 256)    0           norm_8[0][0]                     \n",
      "__________________________________________________________________________________________________\n",
      "max_pooling2d_4 (MaxPooling2D)  (None, 2, 2, 256)    0           leaky_re_lu_8[0][0]              \n",
      "__________________________________________________________________________________________________\n",
      "conv_9 (Conv2D)                 (None, 2, 2, 512)    1179648     max_pooling2d_4[0][0]            \n",
      "__________________________________________________________________________________________________\n",
      "norm_9 (BatchNormalization)     (None, 2, 2, 512)    2048        conv_9[0][0]                     \n",
      "__________________________________________________________________________________________________\n",
      "leaky_re_lu_9 (LeakyReLU)       (None, 2, 2, 512)    0           norm_9[0][0]                     \n",
      "__________________________________________________________________________________________________\n",
      "conv_10 (Conv2D)                (None, 2, 2, 256)    131072      leaky_re_lu_9[0][0]              \n",
      "__________________________________________________________________________________________________\n",
      "norm_10 (BatchNormalization)    (None, 2, 2, 256)    1024        conv_10[0][0]                    \n",
      "__________________________________________________________________________________________________\n",
      "leaky_re_lu_10 (LeakyReLU)      (None, 2, 2, 256)    0           norm_10[0][0]                    \n",
      "__________________________________________________________________________________________________\n",
      "conv_11 (Conv2D)                (None, 2, 2, 512)    1179648     leaky_re_lu_10[0][0]             \n",
      "__________________________________________________________________________________________________\n",
      "norm_11 (BatchNormalization)    (None, 2, 2, 512)    2048        conv_11[0][0]                    \n",
      "__________________________________________________________________________________________________\n",
      "leaky_re_lu_11 (LeakyReLU)      (None, 2, 2, 512)    0           norm_11[0][0]                    \n",
      "__________________________________________________________________________________________________\n",
      "conv_12 (Conv2D)                (None, 2, 2, 256)    131072      leaky_re_lu_11[0][0]             \n",
      "__________________________________________________________________________________________________\n",
      "norm_12 (BatchNormalization)    (None, 2, 2, 256)    1024        conv_12[0][0]                    \n",
      "__________________________________________________________________________________________________\n",
      "leaky_re_lu_12 (LeakyReLU)      (None, 2, 2, 256)    0           norm_12[0][0]                    \n",
      "__________________________________________________________________________________________________\n",
      "conv_13 (Conv2D)                (None, 2, 2, 512)    1179648     leaky_re_lu_12[0][0]             \n",
      "__________________________________________________________________________________________________\n",
      "norm_13 (BatchNormalization)    (None, 2, 2, 512)    2048        conv_13[0][0]                    \n",
      "__________________________________________________________________________________________________\n",
      "leaky_re_lu_13 (LeakyReLU)      (None, 2, 2, 512)    0           norm_13[0][0]                    \n",
      "__________________________________________________________________________________________________\n",
      "max_pooling2d_5 (MaxPooling2D)  (None, 1, 1, 512)    0           leaky_re_lu_13[0][0]             \n",
      "__________________________________________________________________________________________________\n",
      "conv_14 (Conv2D)                (None, 1, 1, 1024)   4718592     max_pooling2d_5[0][0]            \n",
      "__________________________________________________________________________________________________\n",
      "norm_14 (BatchNormalization)    (None, 1, 1, 1024)   4096        conv_14[0][0]                    \n",
      "__________________________________________________________________________________________________\n",
      "leaky_re_lu_14 (LeakyReLU)      (None, 1, 1, 1024)   0           norm_14[0][0]                    \n",
      "__________________________________________________________________________________________________\n",
      "conv_15 (Conv2D)                (None, 1, 1, 512)    524288      leaky_re_lu_14[0][0]             \n",
      "__________________________________________________________________________________________________\n",
      "norm_15 (BatchNormalization)    (None, 1, 1, 512)    2048        conv_15[0][0]                    \n",
      "__________________________________________________________________________________________________\n",
      "leaky_re_lu_15 (LeakyReLU)      (None, 1, 1, 512)    0           norm_15[0][0]                    \n",
      "__________________________________________________________________________________________________\n",
      "conv_16 (Conv2D)                (None, 1, 1, 1024)   4718592     leaky_re_lu_15[0][0]             \n",
      "__________________________________________________________________________________________________\n",
      "norm_16 (BatchNormalization)    (None, 1, 1, 1024)   4096        conv_16[0][0]                    \n",
      "__________________________________________________________________________________________________\n",
      "leaky_re_lu_16 (LeakyReLU)      (None, 1, 1, 1024)   0           norm_16[0][0]                    \n",
      "__________________________________________________________________________________________________\n",
      "conv_17 (Conv2D)                (None, 1, 1, 512)    524288      leaky_re_lu_16[0][0]             \n",
      "__________________________________________________________________________________________________\n",
      "norm_17 (BatchNormalization)    (None, 1, 1, 512)    2048        conv_17[0][0]                    \n",
      "__________________________________________________________________________________________________\n",
      "leaky_re_lu_17 (LeakyReLU)      (None, 1, 1, 512)    0           norm_17[0][0]                    \n",
      "__________________________________________________________________________________________________\n",
      "conv_18 (Conv2D)                (None, 1, 1, 1024)   4718592     leaky_re_lu_17[0][0]             \n",
      "__________________________________________________________________________________________________\n",
      "norm_18 (BatchNormalization)    (None, 1, 1, 1024)   4096        conv_18[0][0]                    \n",
      "__________________________________________________________________________________________________\n",
      "leaky_re_lu_18 (LeakyReLU)      (None, 1, 1, 1024)   0           norm_18[0][0]                    \n",
      "__________________________________________________________________________________________________\n",
      "conv_19 (Conv2D)                (None, 1, 1, 1024)   9437184     leaky_re_lu_18[0][0]             \n",
      "__________________________________________________________________________________________________\n",
      "norm_19 (BatchNormalization)    (None, 1, 1, 1024)   4096        conv_19[0][0]                    \n",
      "__________________________________________________________________________________________________\n",
      "conv_21 (Conv2D)                (None, 2, 2, 64)     16384       leaky_re_lu_12[0][0]             \n",
      "__________________________________________________________________________________________________\n",
      "leaky_re_lu_19 (LeakyReLU)      (None, 1, 1, 1024)   0           norm_19[0][0]                    \n",
      "__________________________________________________________________________________________________\n",
      "norm_21 (BatchNormalization)    (None, 2, 2, 64)     256         conv_21[0][0]                    \n",
      "__________________________________________________________________________________________________\n",
      "conv_20 (Conv2D)                (None, 1, 1, 1024)   9437184     leaky_re_lu_19[0][0]             \n",
      "__________________________________________________________________________________________________\n",
      "leaky_re_lu_21 (LeakyReLU)      (None, 2, 2, 64)     0           norm_21[0][0]                    \n",
      "__________________________________________________________________________________________________\n",
      "norm_20 (BatchNormalization)    (None, 1, 1, 1024)   4096        conv_20[0][0]                    \n",
      "__________________________________________________________________________________________________\n",
      "lambda_1 (Lambda)               (None, 1, 1, 256)    0           leaky_re_lu_21[0][0]             \n",
      "__________________________________________________________________________________________________\n",
      "leaky_re_lu_20 (LeakyReLU)      (None, 1, 1, 1024)   0           norm_20[0][0]                    \n",
      "__________________________________________________________________________________________________\n",
      "concatenate_1 (Concatenate)     (None, 1, 1, 1280)   0           lambda_1[0][0]                   \n",
      "                                                                 leaky_re_lu_20[0][0]             \n",
      "__________________________________________________________________________________________________\n",
      "conv_22 (Conv2D)                (None, 1, 1, 1024)   11796480    concatenate_1[0][0]              \n",
      "__________________________________________________________________________________________________\n",
      "norm_22 (BatchNormalization)    (None, 1, 1, 1024)   4096        conv_22[0][0]                    \n",
      "__________________________________________________________________________________________________\n",
      "leaky_re_lu_22 (LeakyReLU)      (None, 1, 1, 1024)   0           norm_22[0][0]                    \n",
      "__________________________________________________________________________________________________\n",
      "flatten_1 (Flatten)             (None, 1024)         0           leaky_re_lu_22[0][0]             \n",
      "__________________________________________________________________________________________________\n",
      "dense_1 (Dense)                 (None, 10)           10250       flatten_1[0][0]                  \n",
      "==================================================================================================\n",
      "Total params: 50,541,802\n",
      "Trainable params: 50,521,130\n",
      "Non-trainable params: 20,672\n",
      "__________________________________________________________________________________________________\n"
     ]
    }
   ],
   "source": [
    "model = Model(inputs=[input], outputs=[output])\n",
    "model.summary()"
   ]
  },
  {
   "cell_type": "code",
   "execution_count": null,
   "metadata": {},
   "outputs": [],
   "source": []
  },
  {
   "cell_type": "code",
   "execution_count": 6,
   "metadata": {},
   "outputs": [],
   "source": [
    "from keras.utils import multi_gpu_model\n",
    "model = multi_gpu_model(model)"
   ]
  },
  {
   "cell_type": "code",
   "execution_count": null,
   "metadata": {},
   "outputs": [],
   "source": []
  },
  {
   "cell_type": "code",
   "execution_count": 7,
   "metadata": {
    "colab": {},
    "colab_type": "code",
    "id": "apCwOjvZ4Kts"
   },
   "outputs": [],
   "source": [
    "# determine Loss function and Optimizer\n",
    "model.compile(loss='categorical_crossentropy',\n",
    "              optimizer=Adam(),\n",
    "              metrics=['accuracy'])"
   ]
  },
  {
   "cell_type": "code",
   "execution_count": 8,
   "metadata": {
    "colab": {
     "base_uri": "https://localhost:8080/",
     "height": 2920
    },
    "colab_type": "code",
    "executionInfo": {
     "elapsed": 5321323,
     "status": "error",
     "timestamp": 1519100149460,
     "user": {
      "displayName": "Rohan Shravan",
      "photoUrl": "https://lh3.googleusercontent.com/a/default-user=s128",
      "userId": "116259693572096743881"
     },
     "user_tz": -330
    },
    "id": "tLaFy2AO4TLl",
    "outputId": "1c9b194d-e374-43d8-afba-53d734fb58e0"
   },
   "outputs": [
    {
     "name": "stdout",
     "output_type": "stream",
     "text": [
      "Train on 50000 samples, validate on 10000 samples\n",
      "Epoch 1/30\n",
      "50000/50000 [==============================] - 57s 1ms/step - loss: 1.7409 - acc: 0.3874 - val_loss: 7.4141 - val_acc: 0.1595\n",
      "Epoch 2/30\n",
      "50000/50000 [==============================] - 24s 481us/step - loss: 1.1690 - acc: 0.5701 - val_loss: 1.7510 - val_acc: 0.4222\n",
      "Epoch 3/30\n",
      "50000/50000 [==============================] - 24s 483us/step - loss: 0.9323 - acc: 0.6658 - val_loss: 2.5351 - val_acc: 0.3975\n",
      "Epoch 4/30\n",
      "50000/50000 [==============================] - 24s 482us/step - loss: 0.7665 - acc: 0.7293 - val_loss: 1.5459 - val_acc: 0.5404\n",
      "Epoch 5/30\n",
      "50000/50000 [==============================] - 24s 483us/step - loss: 0.6425 - acc: 0.7713 - val_loss: 1.3770 - val_acc: 0.5769\n",
      "Epoch 6/30\n",
      "50000/50000 [==============================] - 24s 482us/step - loss: 0.5509 - acc: 0.8091 - val_loss: 1.5166 - val_acc: 0.5920\n",
      "Epoch 7/30\n",
      "50000/50000 [==============================] - 24s 481us/step - loss: 0.4583 - acc: 0.8398 - val_loss: 1.5282 - val_acc: 0.6248\n",
      "Epoch 8/30\n",
      "50000/50000 [==============================] - 24s 481us/step - loss: 0.3793 - acc: 0.8666 - val_loss: 1.2897 - val_acc: 0.6471\n",
      "Epoch 9/30\n",
      "50000/50000 [==============================] - 24s 482us/step - loss: 0.3159 - acc: 0.8908 - val_loss: 1.5797 - val_acc: 0.6513\n",
      "Epoch 10/30\n",
      "50000/50000 [==============================] - 24s 485us/step - loss: 0.2799 - acc: 0.9021 - val_loss: 1.5994 - val_acc: 0.6378\n",
      "Epoch 11/30\n",
      "50000/50000 [==============================] - 24s 481us/step - loss: 0.2160 - acc: 0.9257 - val_loss: 2.0922 - val_acc: 0.5844\n",
      "Epoch 12/30\n",
      "50000/50000 [==============================] - 24s 482us/step - loss: 0.1890 - acc: 0.9333 - val_loss: 1.4924 - val_acc: 0.6698\n",
      "Epoch 13/30\n",
      "50000/50000 [==============================] - 24s 481us/step - loss: 0.1569 - acc: 0.9444 - val_loss: 1.4803 - val_acc: 0.6893\n",
      "Epoch 14/30\n",
      "50000/50000 [==============================] - 24s 476us/step - loss: 0.1363 - acc: 0.9506 - val_loss: 2.1988 - val_acc: 0.5943\n",
      "Epoch 15/30\n",
      "50000/50000 [==============================] - 24s 482us/step - loss: 0.1214 - acc: 0.9580 - val_loss: 1.6315 - val_acc: 0.6741\n",
      "Epoch 16/30\n",
      "50000/50000 [==============================] - 24s 481us/step - loss: 0.1062 - acc: 0.9623 - val_loss: 2.0154 - val_acc: 0.6355\n",
      "Epoch 17/30\n",
      "50000/50000 [==============================] - 24s 482us/step - loss: 0.0918 - acc: 0.9674 - val_loss: 1.6074 - val_acc: 0.6928\n",
      "Epoch 18/30\n",
      "50000/50000 [==============================] - 24s 486us/step - loss: 0.0894 - acc: 0.9688 - val_loss: 1.5649 - val_acc: 0.7021\n",
      "Epoch 19/30\n",
      "50000/50000 [==============================] - 24s 480us/step - loss: 0.0857 - acc: 0.9692 - val_loss: 1.5248 - val_acc: 0.7002\n",
      "Epoch 20/30\n",
      "50000/50000 [==============================] - 24s 481us/step - loss: 0.0755 - acc: 0.9730 - val_loss: 1.6915 - val_acc: 0.6894\n",
      "Epoch 21/30\n",
      "50000/50000 [==============================] - 24s 480us/step - loss: 0.0658 - acc: 0.9761 - val_loss: 1.7680 - val_acc: 0.6773\n",
      "Epoch 22/30\n",
      "50000/50000 [==============================] - 24s 481us/step - loss: 0.0794 - acc: 0.9722 - val_loss: 1.9589 - val_acc: 0.6547\n",
      "Epoch 23/30\n",
      "50000/50000 [==============================] - 24s 480us/step - loss: 0.0600 - acc: 0.9788 - val_loss: 2.3217 - val_acc: 0.6398\n",
      "Epoch 24/30\n",
      "50000/50000 [==============================] - 24s 481us/step - loss: 0.0506 - acc: 0.9826 - val_loss: 1.7363 - val_acc: 0.7089\n",
      "Epoch 25/30\n",
      "50000/50000 [==============================] - 24s 483us/step - loss: 0.0551 - acc: 0.9804 - val_loss: 1.8628 - val_acc: 0.6886\n",
      "Epoch 26/30\n",
      "50000/50000 [==============================] - 24s 484us/step - loss: 0.0525 - acc: 0.9818 - val_loss: 1.5570 - val_acc: 0.7213\n",
      "Epoch 27/30\n",
      "50000/50000 [==============================] - 24s 483us/step - loss: 0.0542 - acc: 0.9816 - val_loss: 1.5646 - val_acc: 0.7115\n",
      "Epoch 28/30\n",
      "50000/50000 [==============================] - 24s 481us/step - loss: 0.0544 - acc: 0.9812 - val_loss: 2.4002 - val_acc: 0.6264\n",
      "Epoch 29/30\n",
      "50000/50000 [==============================] - 24s 479us/step - loss: 0.0606 - acc: 0.9789 - val_loss: 1.9268 - val_acc: 0.6826\n",
      "Epoch 30/30\n",
      "50000/50000 [==============================] - 24s 479us/step - loss: 0.0409 - acc: 0.9853 - val_loss: 1.5843 - val_acc: 0.7182\n"
     ]
    },
    {
     "data": {
      "text/plain": [
       "<keras.callbacks.History at 0x7fa052f60630>"
      ]
     },
     "execution_count": 8,
     "metadata": {},
     "output_type": "execute_result"
    }
   ],
   "source": [
    "model.fit(x_train, y_train,\n",
    "                    batch_size=batch_size,\n",
    "                    epochs=epochs,\n",
    "                    verbose=1,\n",
    "                    validation_data=(x_test, y_test))"
   ]
  },
  {
   "cell_type": "code",
   "execution_count": null,
   "metadata": {},
   "outputs": [],
   "source": []
  },
  {
   "cell_type": "code",
   "execution_count": 9,
   "metadata": {
    "colab": {
     "base_uri": "https://localhost:8080/",
     "height": 85
    },
    "colab_type": "code",
    "executionInfo": {
     "elapsed": 10551,
     "status": "ok",
     "timestamp": 1519100480288,
     "user": {
      "displayName": "Rohan Shravan",
      "photoUrl": "https://lh3.googleusercontent.com/a/default-user=s128",
      "userId": "116259693572096743881"
     },
     "user_tz": -330
    },
    "id": "pTfZIGrf4Uyd",
    "outputId": "645eb90b-d22c-4157-a963-bd528ef3b916"
   },
   "outputs": [
    {
     "name": "stdout",
     "output_type": "stream",
     "text": [
      "10000/10000 [==============================] - 23s 2ms/step\n",
      "Test loss: 1.584261936378479\n",
      "Test accuracy: 0.7182\n",
      "Saved the model to disk\n"
     ]
    }
   ],
   "source": [
    "# Test the model\n",
    "score = model.evaluate(x_test, y_test, verbose=1)\n",
    "print('Test loss:', score[0])\n",
    "print('Test accuracy:', score[1])\n",
    "# Save the trained weights in to .h5 format\n",
    "model.save_weights(\"Yolo_Basic_model2.h5\")\n",
    "print(\"Saved the model to disk\")"
   ]
  },
  {
   "cell_type": "code",
   "execution_count": 10,
   "metadata": {
    "colab": {
     "base_uri": "https://localhost:8080/",
     "height": 979,
     "resources": {
      "http://localhost:18894/content/Yolo_Basic_model.h5": {
       "data": "CjwhRE9DVFlQRSBodG1sPgo8aHRtbCBsYW5nPWVuPgogIDxtZXRhIGNoYXJzZXQ9dXRmLTg+CiAgPG1ldGEgbmFtZT12aWV3cG9ydCBjb250ZW50PSJpbml0aWFsLXNjYWxlPTEsIG1pbmltdW0tc2NhbGU9MSwgd2lkdGg9ZGV2aWNlLXdpZHRoIj4KICA8dGl0bGU+RXJyb3IgNTA0IChHYXRld2F5IFRpbWVvdXQpISExPC90aXRsZT4KICA8c3R5bGU+CiAgICAqe21hcmdpbjowO3BhZGRpbmc6MH1odG1sLGNvZGV7Zm9udDoxNXB4LzIycHggYXJpYWwsc2Fucy1zZXJpZn1odG1se2JhY2tncm91bmQ6I2ZmZjtjb2xvcjojMjIyO3BhZGRpbmc6MTVweH1ib2R5e21hcmdpbjo3JSBhdXRvIDA7bWF4LXdpZHRoOjM5MHB4O21pbi1oZWlnaHQ6MTgwcHg7cGFkZGluZzozMHB4IDAgMTVweH0qID4gYm9keXtiYWNrZ3JvdW5kOnVybCgvL3d3dy5nb29nbGUuY29tL2ltYWdlcy9lcnJvcnMvcm9ib3QucG5nKSAxMDAlIDVweCBuby1yZXBlYXQ7cGFkZGluZy1yaWdodDoyMDVweH1we21hcmdpbjoxMXB4IDAgMjJweDtvdmVyZmxvdzpoaWRkZW59aW5ze2NvbG9yOiM3Nzc7dGV4dC1kZWNvcmF0aW9uOm5vbmV9YSBpbWd7Ym9yZGVyOjB9QG1lZGlhIHNjcmVlbiBhbmQgKG1heC13aWR0aDo3NzJweCl7Ym9keXtiYWNrZ3JvdW5kOm5vbmU7bWFyZ2luLXRvcDowO21heC13aWR0aDpub25lO3BhZGRpbmctcmlnaHQ6MH19I2xvZ297YmFja2dyb3VuZDp1cmwoLy93d3cuZ29vZ2xlLmNvbS9pbWFnZXMvbG9nb3MvZXJyb3JwYWdlL2Vycm9yX2xvZ28tMTUweDU0LnBuZykgbm8tcmVwZWF0O21hcmdpbi1sZWZ0Oi01cHh9QG1lZGlhIG9ubHkgc2NyZWVuIGFuZCAobWluLXJlc29sdXRpb246MTkyZHBpKXsjbG9nb3tiYWNrZ3JvdW5kOnVybCgvL3d3dy5nb29nbGUuY29tL2ltYWdlcy9sb2dvcy9lcnJvcnBhZ2UvZXJyb3JfbG9nby0xNTB4NTQtMngucG5nKSBuby1yZXBlYXQgMCUgMCUvMTAwJSAxMDAlOy1tb3otYm9yZGVyLWltYWdlOnVybCgvL3d3dy5nb29nbGUuY29tL2ltYWdlcy9sb2dvcy9lcnJvcnBhZ2UvZXJyb3JfbG9nby0xNTB4NTQtMngucG5nKSAwfX1AbWVkaWEgb25seSBzY3JlZW4gYW5kICgtd2Via2l0LW1pbi1kZXZpY2UtcGl4ZWwtcmF0aW86Mil7I2xvZ297YmFja2dyb3VuZDp1cmwoLy93d3cuZ29vZ2xlLmNvbS9pbWFnZXMvbG9nb3MvZXJyb3JwYWdlL2Vycm9yX2xvZ28tMTUweDU0LTJ4LnBuZykgbm8tcmVwZWF0Oy13ZWJraXQtYmFja2dyb3VuZC1zaXplOjEwMCUgMTAwJX19I2xvZ297ZGlzcGxheTppbmxpbmUtYmxvY2s7aGVpZ2h0OjU0cHg7d2lkdGg6MTUwcHh9CiAgPC9zdHlsZT4KICA8YSBocmVmPS8vd3d3Lmdvb2dsZS5jb20vPjxzcGFuIGlkPWxvZ28gYXJpYS1sYWJlbD1Hb29nbGU+PC9zcGFuPjwvYT4KICA8cD48Yj41MDQuPC9iPiA8aW5zPlRoYXTigJlzIGFuIGVycm9yLjwvaW5zPgogIDxwPiAgPGlucz5UaGF04oCZcyBhbGwgd2Uga25vdy48L2lucz4K",
       "headers": [
        [
         "content-length",
         "1455"
        ],
        [
         "content-type",
         "text/html; charset=utf-8"
        ]
       ],
       "ok": false,
       "status": 504,
       "status_text": ""
      }
     }
    },
    "colab_type": "code",
    "executionInfo": {
     "elapsed": 122565,
     "status": "error",
     "timestamp": 1519100605704,
     "user": {
      "displayName": "Rohan Shravan",
      "photoUrl": "https://lh3.googleusercontent.com/a/default-user=s128",
      "userId": "116259693572096743881"
     },
     "user_tz": -330
    },
    "id": "Jiyb9TlVGsZs",
    "outputId": "c7521f27-d97c-424b-b271-c468dc25bd4c"
   },
   "outputs": [],
   "source": [
    "model.save_weights(\"Yolo_Basic_model2.h5\")\n",
    "print(\"Saved the model to disk\")\n",
    "from google.colab import files\n",
    "\n",
    "files.download('Yolo_Basic_model.h5')"
   ]
  },
  {
   "cell_type": "code",
   "execution_count": 0,
   "metadata": {
    "colab": {},
    "colab_type": "code",
    "id": "g9A3pesKbUJ8"
   },
   "outputs": [],
   "source": []
  }
 ],
 "metadata": {
  "accelerator": "GPU",
  "anaconda-cloud": {},
  "colab": {
   "name": "Yolo_Basic.ipynb",
   "provenance": [],
   "version": "0.3.2"
  },
  "kernelspec": {
   "display_name": "Python (Keras-FCN)",
   "language": "python",
   "name": "keras-fcn"
  },
  "language_info": {
   "codemirror_mode": {
    "name": "ipython",
    "version": 3
   },
   "file_extension": ".py",
   "mimetype": "text/x-python",
   "name": "python",
   "nbconvert_exporter": "python",
   "pygments_lexer": "ipython3",
   "version": "3.6.6"
  }
 },
 "nbformat": 4,
 "nbformat_minor": 1
}
